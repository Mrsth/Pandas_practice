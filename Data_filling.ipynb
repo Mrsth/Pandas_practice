{
  "nbformat": 4,
  "nbformat_minor": 0,
  "metadata": {
    "colab": {
      "name": "Data_filling.ipynb",
      "provenance": [],
      "authorship_tag": "ABX9TyPtEbubvQ10wNZkVx9hcbXQ",
      "include_colab_link": true
    },
    "kernelspec": {
      "name": "python3",
      "display_name": "Python 3"
    }
  },
  "cells": [
    {
      "cell_type": "markdown",
      "metadata": {
        "id": "view-in-github",
        "colab_type": "text"
      },
      "source": [
        "<a href=\"https://colab.research.google.com/github/Mrsth/Pandas_practice/blob/master/Data_filling.ipynb\" target=\"_parent\"><img src=\"https://colab.research.google.com/assets/colab-badge.svg\" alt=\"Open In Colab\"/></a>"
      ]
    },
    {
      "cell_type": "code",
      "metadata": {
        "id": "wCc662_fVJA5"
      },
      "source": [
        "import pandas as pd\n",
        "import numpy as np\n",
        "from numpy import random"
      ],
      "execution_count": 2,
      "outputs": []
    },
    {
      "cell_type": "code",
      "metadata": {
        "id": "aDpuF6fqVR9h",
        "outputId": "4209b067-20ec-4777-a67b-cd6d97541214",
        "colab": {
          "base_uri": "https://localhost:8080/",
          "height": 257
        }
      },
      "source": [
        "dict1 = {\n",
        "    \"DATE\": pd.date_range(start='2020-1-10', end='2020-1-16'),\n",
        "    \"ROLL_NO\": [100, None ,300, None ,500,None,700],\n",
        "    \"NAME\": [\"Ram\", \"Shyam\", None, \"Gita\", \"Rita\", None, \"Tina\"],\n",
        "    \"ADDRESS\": [\"Dallu\", None, \"Chaunni\", None, \"Kimdol\", None, \"Chagal\"]\n",
        "}\n",
        "\n",
        "df1 = pd.DataFrame(dict1)\n",
        "df1"
      ],
      "execution_count": 19,
      "outputs": [
        {
          "output_type": "execute_result",
          "data": {
            "text/html": [
              "<div>\n",
              "<style scoped>\n",
              "    .dataframe tbody tr th:only-of-type {\n",
              "        vertical-align: middle;\n",
              "    }\n",
              "\n",
              "    .dataframe tbody tr th {\n",
              "        vertical-align: top;\n",
              "    }\n",
              "\n",
              "    .dataframe thead th {\n",
              "        text-align: right;\n",
              "    }\n",
              "</style>\n",
              "<table border=\"1\" class=\"dataframe\">\n",
              "  <thead>\n",
              "    <tr style=\"text-align: right;\">\n",
              "      <th></th>\n",
              "      <th>DATE</th>\n",
              "      <th>ROLL_NO</th>\n",
              "      <th>NAME</th>\n",
              "      <th>ADDRESS</th>\n",
              "    </tr>\n",
              "  </thead>\n",
              "  <tbody>\n",
              "    <tr>\n",
              "      <th>0</th>\n",
              "      <td>2020-01-10</td>\n",
              "      <td>100.0</td>\n",
              "      <td>Ram</td>\n",
              "      <td>Dallu</td>\n",
              "    </tr>\n",
              "    <tr>\n",
              "      <th>1</th>\n",
              "      <td>2020-01-11</td>\n",
              "      <td>NaN</td>\n",
              "      <td>Shyam</td>\n",
              "      <td>None</td>\n",
              "    </tr>\n",
              "    <tr>\n",
              "      <th>2</th>\n",
              "      <td>2020-01-12</td>\n",
              "      <td>300.0</td>\n",
              "      <td>None</td>\n",
              "      <td>Chaunni</td>\n",
              "    </tr>\n",
              "    <tr>\n",
              "      <th>3</th>\n",
              "      <td>2020-01-13</td>\n",
              "      <td>NaN</td>\n",
              "      <td>Gita</td>\n",
              "      <td>None</td>\n",
              "    </tr>\n",
              "    <tr>\n",
              "      <th>4</th>\n",
              "      <td>2020-01-14</td>\n",
              "      <td>500.0</td>\n",
              "      <td>Rita</td>\n",
              "      <td>Kimdol</td>\n",
              "    </tr>\n",
              "    <tr>\n",
              "      <th>5</th>\n",
              "      <td>2020-01-15</td>\n",
              "      <td>NaN</td>\n",
              "      <td>None</td>\n",
              "      <td>None</td>\n",
              "    </tr>\n",
              "    <tr>\n",
              "      <th>6</th>\n",
              "      <td>2020-01-16</td>\n",
              "      <td>700.0</td>\n",
              "      <td>Tina</td>\n",
              "      <td>Chagal</td>\n",
              "    </tr>\n",
              "  </tbody>\n",
              "</table>\n",
              "</div>"
            ],
            "text/plain": [
              "        DATE  ROLL_NO   NAME  ADDRESS\n",
              "0 2020-01-10    100.0    Ram    Dallu\n",
              "1 2020-01-11      NaN  Shyam     None\n",
              "2 2020-01-12    300.0   None  Chaunni\n",
              "3 2020-01-13      NaN   Gita     None\n",
              "4 2020-01-14    500.0   Rita   Kimdol\n",
              "5 2020-01-15      NaN   None     None\n",
              "6 2020-01-16    700.0   Tina   Chagal"
            ]
          },
          "metadata": {
            "tags": []
          },
          "execution_count": 19
        }
      ]
    },
    {
      "cell_type": "code",
      "metadata": {
        "id": "iIXuhVbA8BYK",
        "outputId": "a2539cb0-ec54-44f5-c80d-42b3379f104a",
        "colab": {
          "base_uri": "https://localhost:8080/"
        }
      },
      "source": [
        "df1.isna().sum()"
      ],
      "execution_count": 20,
      "outputs": [
        {
          "output_type": "execute_result",
          "data": {
            "text/plain": [
              "DATE       0\n",
              "ROLL_NO    3\n",
              "NAME       2\n",
              "ADDRESS    3\n",
              "dtype: int64"
            ]
          },
          "metadata": {
            "tags": []
          },
          "execution_count": 20
        }
      ]
    },
    {
      "cell_type": "markdown",
      "metadata": {
        "id": "ciAOb4YM_FrD"
      },
      "source": [
        "# **Dropping the Nan values**"
      ]
    },
    {
      "cell_type": "code",
      "metadata": {
        "id": "pcnb13lK-Dj8",
        "outputId": "a3123da4-2a4b-4345-af34-1a8784b84d4a",
        "colab": {
          "base_uri": "https://localhost:8080/",
          "height": 137
        }
      },
      "source": [
        "df2 = df1.dropna()\n",
        "df2"
      ],
      "execution_count": 21,
      "outputs": [
        {
          "output_type": "execute_result",
          "data": {
            "text/html": [
              "<div>\n",
              "<style scoped>\n",
              "    .dataframe tbody tr th:only-of-type {\n",
              "        vertical-align: middle;\n",
              "    }\n",
              "\n",
              "    .dataframe tbody tr th {\n",
              "        vertical-align: top;\n",
              "    }\n",
              "\n",
              "    .dataframe thead th {\n",
              "        text-align: right;\n",
              "    }\n",
              "</style>\n",
              "<table border=\"1\" class=\"dataframe\">\n",
              "  <thead>\n",
              "    <tr style=\"text-align: right;\">\n",
              "      <th></th>\n",
              "      <th>DATE</th>\n",
              "      <th>ROLL_NO</th>\n",
              "      <th>NAME</th>\n",
              "      <th>ADDRESS</th>\n",
              "    </tr>\n",
              "  </thead>\n",
              "  <tbody>\n",
              "    <tr>\n",
              "      <th>0</th>\n",
              "      <td>2020-01-10</td>\n",
              "      <td>100.0</td>\n",
              "      <td>Ram</td>\n",
              "      <td>Dallu</td>\n",
              "    </tr>\n",
              "    <tr>\n",
              "      <th>4</th>\n",
              "      <td>2020-01-14</td>\n",
              "      <td>500.0</td>\n",
              "      <td>Rita</td>\n",
              "      <td>Kimdol</td>\n",
              "    </tr>\n",
              "    <tr>\n",
              "      <th>6</th>\n",
              "      <td>2020-01-16</td>\n",
              "      <td>700.0</td>\n",
              "      <td>Tina</td>\n",
              "      <td>Chagal</td>\n",
              "    </tr>\n",
              "  </tbody>\n",
              "</table>\n",
              "</div>"
            ],
            "text/plain": [
              "        DATE  ROLL_NO  NAME ADDRESS\n",
              "0 2020-01-10    100.0   Ram   Dallu\n",
              "4 2020-01-14    500.0  Rita  Kimdol\n",
              "6 2020-01-16    700.0  Tina  Chagal"
            ]
          },
          "metadata": {
            "tags": []
          },
          "execution_count": 21
        }
      ]
    },
    {
      "cell_type": "code",
      "metadata": {
        "id": "01aju_qa-MVE",
        "outputId": "b817d91f-5370-45c0-cd82-ef56d2b2764e",
        "colab": {
          "base_uri": "https://localhost:8080/",
          "height": 137
        }
      },
      "source": [
        "df3 = df1.dropna(axis = \"rows\", how=\"any\")\n",
        "df3\n",
        "# how = \"all\" will remove only the rows with all Null values.\n",
        "# how = \"any\" will remove all the rows containing atleast one Null value. "
      ],
      "execution_count": null,
      "outputs": [
        {
          "output_type": "execute_result",
          "data": {
            "text/html": [
              "<div>\n",
              "<style scoped>\n",
              "    .dataframe tbody tr th:only-of-type {\n",
              "        vertical-align: middle;\n",
              "    }\n",
              "\n",
              "    .dataframe tbody tr th {\n",
              "        vertical-align: top;\n",
              "    }\n",
              "\n",
              "    .dataframe thead th {\n",
              "        text-align: right;\n",
              "    }\n",
              "</style>\n",
              "<table border=\"1\" class=\"dataframe\">\n",
              "  <thead>\n",
              "    <tr style=\"text-align: right;\">\n",
              "      <th></th>\n",
              "      <th>DATE</th>\n",
              "      <th>ROLL_NO</th>\n",
              "      <th>NAME</th>\n",
              "      <th>ADDRESS</th>\n",
              "    </tr>\n",
              "  </thead>\n",
              "  <tbody>\n",
              "    <tr>\n",
              "      <th>0</th>\n",
              "      <td>2020-01-10</td>\n",
              "      <td>100.0</td>\n",
              "      <td>Ram</td>\n",
              "      <td>Dallu</td>\n",
              "    </tr>\n",
              "    <tr>\n",
              "      <th>4</th>\n",
              "      <td>2020-01-14</td>\n",
              "      <td>500.0</td>\n",
              "      <td>Rita</td>\n",
              "      <td>Kimdol</td>\n",
              "    </tr>\n",
              "    <tr>\n",
              "      <th>6</th>\n",
              "      <td>2020-01-16</td>\n",
              "      <td>700.0</td>\n",
              "      <td>Tina</td>\n",
              "      <td>Chagal</td>\n",
              "    </tr>\n",
              "  </tbody>\n",
              "</table>\n",
              "</div>"
            ],
            "text/plain": [
              "        DATE  ROLL_NO  NAME ADDRESS\n",
              "0 2020-01-10    100.0   Ram   Dallu\n",
              "4 2020-01-14    500.0  Rita  Kimdol\n",
              "6 2020-01-16    700.0  Tina  Chagal"
            ]
          },
          "metadata": {
            "tags": []
          },
          "execution_count": 26
        }
      ]
    },
    {
      "cell_type": "markdown",
      "metadata": {
        "id": "PsFWSaKR_LU5"
      },
      "source": [
        "# **Filling the Nan Values**"
      ]
    },
    {
      "cell_type": "code",
      "metadata": {
        "id": "jEa4yPwj-Zvi",
        "outputId": "a4207590-0e11-4627-e115-907a80388da3",
        "colab": {
          "base_uri": "https://localhost:8080/",
          "height": 257
        }
      },
      "source": [
        "df1"
      ],
      "execution_count": 27,
      "outputs": [
        {
          "output_type": "execute_result",
          "data": {
            "text/html": [
              "<div>\n",
              "<style scoped>\n",
              "    .dataframe tbody tr th:only-of-type {\n",
              "        vertical-align: middle;\n",
              "    }\n",
              "\n",
              "    .dataframe tbody tr th {\n",
              "        vertical-align: top;\n",
              "    }\n",
              "\n",
              "    .dataframe thead th {\n",
              "        text-align: right;\n",
              "    }\n",
              "</style>\n",
              "<table border=\"1\" class=\"dataframe\">\n",
              "  <thead>\n",
              "    <tr style=\"text-align: right;\">\n",
              "      <th></th>\n",
              "      <th>DATE</th>\n",
              "      <th>ROLL_NO</th>\n",
              "      <th>NAME</th>\n",
              "      <th>ADDRESS</th>\n",
              "    </tr>\n",
              "  </thead>\n",
              "  <tbody>\n",
              "    <tr>\n",
              "      <th>0</th>\n",
              "      <td>2020-01-10</td>\n",
              "      <td>100.0</td>\n",
              "      <td>Ram</td>\n",
              "      <td>Dallu</td>\n",
              "    </tr>\n",
              "    <tr>\n",
              "      <th>1</th>\n",
              "      <td>2020-01-11</td>\n",
              "      <td>NaN</td>\n",
              "      <td>Shyam</td>\n",
              "      <td>None</td>\n",
              "    </tr>\n",
              "    <tr>\n",
              "      <th>2</th>\n",
              "      <td>2020-01-12</td>\n",
              "      <td>300.0</td>\n",
              "      <td>None</td>\n",
              "      <td>Chaunni</td>\n",
              "    </tr>\n",
              "    <tr>\n",
              "      <th>3</th>\n",
              "      <td>2020-01-13</td>\n",
              "      <td>NaN</td>\n",
              "      <td>Gita</td>\n",
              "      <td>None</td>\n",
              "    </tr>\n",
              "    <tr>\n",
              "      <th>4</th>\n",
              "      <td>2020-01-14</td>\n",
              "      <td>500.0</td>\n",
              "      <td>Rita</td>\n",
              "      <td>Kimdol</td>\n",
              "    </tr>\n",
              "    <tr>\n",
              "      <th>5</th>\n",
              "      <td>2020-01-15</td>\n",
              "      <td>NaN</td>\n",
              "      <td>None</td>\n",
              "      <td>None</td>\n",
              "    </tr>\n",
              "    <tr>\n",
              "      <th>6</th>\n",
              "      <td>2020-01-16</td>\n",
              "      <td>700.0</td>\n",
              "      <td>Tina</td>\n",
              "      <td>Chagal</td>\n",
              "    </tr>\n",
              "  </tbody>\n",
              "</table>\n",
              "</div>"
            ],
            "text/plain": [
              "        DATE  ROLL_NO   NAME  ADDRESS\n",
              "0 2020-01-10    100.0    Ram    Dallu\n",
              "1 2020-01-11      NaN  Shyam     None\n",
              "2 2020-01-12    300.0   None  Chaunni\n",
              "3 2020-01-13      NaN   Gita     None\n",
              "4 2020-01-14    500.0   Rita   Kimdol\n",
              "5 2020-01-15      NaN   None     None\n",
              "6 2020-01-16    700.0   Tina   Chagal"
            ]
          },
          "metadata": {
            "tags": []
          },
          "execution_count": 27
        }
      ]
    },
    {
      "cell_type": "code",
      "metadata": {
        "id": "mCAqTpCA_Rdf"
      },
      "source": [
        "df4 = df1.fillna({\n",
        "    \"ROLL_NO\": 0,\n",
        "    \"NAME\": \"Unknown\",\n",
        "    \"ADDRESS\": \"Unknown\"\n",
        "})"
      ],
      "execution_count": 28,
      "outputs": []
    },
    {
      "cell_type": "code",
      "metadata": {
        "id": "fKfeMNqZ_p88",
        "outputId": "b7c89080-6cf7-46c9-88be-5efb0f350bb6",
        "colab": {
          "base_uri": "https://localhost:8080/",
          "height": 257
        }
      },
      "source": [
        "df4"
      ],
      "execution_count": 29,
      "outputs": [
        {
          "output_type": "execute_result",
          "data": {
            "text/html": [
              "<div>\n",
              "<style scoped>\n",
              "    .dataframe tbody tr th:only-of-type {\n",
              "        vertical-align: middle;\n",
              "    }\n",
              "\n",
              "    .dataframe tbody tr th {\n",
              "        vertical-align: top;\n",
              "    }\n",
              "\n",
              "    .dataframe thead th {\n",
              "        text-align: right;\n",
              "    }\n",
              "</style>\n",
              "<table border=\"1\" class=\"dataframe\">\n",
              "  <thead>\n",
              "    <tr style=\"text-align: right;\">\n",
              "      <th></th>\n",
              "      <th>DATE</th>\n",
              "      <th>ROLL_NO</th>\n",
              "      <th>NAME</th>\n",
              "      <th>ADDRESS</th>\n",
              "    </tr>\n",
              "  </thead>\n",
              "  <tbody>\n",
              "    <tr>\n",
              "      <th>0</th>\n",
              "      <td>2020-01-10</td>\n",
              "      <td>100.0</td>\n",
              "      <td>Ram</td>\n",
              "      <td>Dallu</td>\n",
              "    </tr>\n",
              "    <tr>\n",
              "      <th>1</th>\n",
              "      <td>2020-01-11</td>\n",
              "      <td>0.0</td>\n",
              "      <td>Shyam</td>\n",
              "      <td>Unknown</td>\n",
              "    </tr>\n",
              "    <tr>\n",
              "      <th>2</th>\n",
              "      <td>2020-01-12</td>\n",
              "      <td>300.0</td>\n",
              "      <td>Unknown</td>\n",
              "      <td>Chaunni</td>\n",
              "    </tr>\n",
              "    <tr>\n",
              "      <th>3</th>\n",
              "      <td>2020-01-13</td>\n",
              "      <td>0.0</td>\n",
              "      <td>Gita</td>\n",
              "      <td>Unknown</td>\n",
              "    </tr>\n",
              "    <tr>\n",
              "      <th>4</th>\n",
              "      <td>2020-01-14</td>\n",
              "      <td>500.0</td>\n",
              "      <td>Rita</td>\n",
              "      <td>Kimdol</td>\n",
              "    </tr>\n",
              "    <tr>\n",
              "      <th>5</th>\n",
              "      <td>2020-01-15</td>\n",
              "      <td>0.0</td>\n",
              "      <td>Unknown</td>\n",
              "      <td>Unknown</td>\n",
              "    </tr>\n",
              "    <tr>\n",
              "      <th>6</th>\n",
              "      <td>2020-01-16</td>\n",
              "      <td>700.0</td>\n",
              "      <td>Tina</td>\n",
              "      <td>Chagal</td>\n",
              "    </tr>\n",
              "  </tbody>\n",
              "</table>\n",
              "</div>"
            ],
            "text/plain": [
              "        DATE  ROLL_NO     NAME  ADDRESS\n",
              "0 2020-01-10    100.0      Ram    Dallu\n",
              "1 2020-01-11      0.0    Shyam  Unknown\n",
              "2 2020-01-12    300.0  Unknown  Chaunni\n",
              "3 2020-01-13      0.0     Gita  Unknown\n",
              "4 2020-01-14    500.0     Rita   Kimdol\n",
              "5 2020-01-15      0.0  Unknown  Unknown\n",
              "6 2020-01-16    700.0     Tina   Chagal"
            ]
          },
          "metadata": {
            "tags": []
          },
          "execution_count": 29
        }
      ]
    },
    {
      "cell_type": "markdown",
      "metadata": {
        "id": "Q_UcZVzO_wqf"
      },
      "source": [
        "# **Forward fill**"
      ]
    },
    {
      "cell_type": "code",
      "metadata": {
        "id": "VmnVMKkq_q6s",
        "outputId": "be536c6a-2806-407f-d9b1-42451cf5901b",
        "colab": {
          "base_uri": "https://localhost:8080/",
          "height": 257
        }
      },
      "source": [
        "df5 = df1.fillna(method=\"ffill\")\n",
        "df5"
      ],
      "execution_count": 31,
      "outputs": [
        {
          "output_type": "execute_result",
          "data": {
            "text/html": [
              "<div>\n",
              "<style scoped>\n",
              "    .dataframe tbody tr th:only-of-type {\n",
              "        vertical-align: middle;\n",
              "    }\n",
              "\n",
              "    .dataframe tbody tr th {\n",
              "        vertical-align: top;\n",
              "    }\n",
              "\n",
              "    .dataframe thead th {\n",
              "        text-align: right;\n",
              "    }\n",
              "</style>\n",
              "<table border=\"1\" class=\"dataframe\">\n",
              "  <thead>\n",
              "    <tr style=\"text-align: right;\">\n",
              "      <th></th>\n",
              "      <th>DATE</th>\n",
              "      <th>ROLL_NO</th>\n",
              "      <th>NAME</th>\n",
              "      <th>ADDRESS</th>\n",
              "    </tr>\n",
              "  </thead>\n",
              "  <tbody>\n",
              "    <tr>\n",
              "      <th>0</th>\n",
              "      <td>2020-01-10</td>\n",
              "      <td>100.0</td>\n",
              "      <td>Ram</td>\n",
              "      <td>Dallu</td>\n",
              "    </tr>\n",
              "    <tr>\n",
              "      <th>1</th>\n",
              "      <td>2020-01-11</td>\n",
              "      <td>100.0</td>\n",
              "      <td>Shyam</td>\n",
              "      <td>Dallu</td>\n",
              "    </tr>\n",
              "    <tr>\n",
              "      <th>2</th>\n",
              "      <td>2020-01-12</td>\n",
              "      <td>300.0</td>\n",
              "      <td>Shyam</td>\n",
              "      <td>Chaunni</td>\n",
              "    </tr>\n",
              "    <tr>\n",
              "      <th>3</th>\n",
              "      <td>2020-01-13</td>\n",
              "      <td>300.0</td>\n",
              "      <td>Gita</td>\n",
              "      <td>Chaunni</td>\n",
              "    </tr>\n",
              "    <tr>\n",
              "      <th>4</th>\n",
              "      <td>2020-01-14</td>\n",
              "      <td>500.0</td>\n",
              "      <td>Rita</td>\n",
              "      <td>Kimdol</td>\n",
              "    </tr>\n",
              "    <tr>\n",
              "      <th>5</th>\n",
              "      <td>2020-01-15</td>\n",
              "      <td>500.0</td>\n",
              "      <td>Rita</td>\n",
              "      <td>Kimdol</td>\n",
              "    </tr>\n",
              "    <tr>\n",
              "      <th>6</th>\n",
              "      <td>2020-01-16</td>\n",
              "      <td>700.0</td>\n",
              "      <td>Tina</td>\n",
              "      <td>Chagal</td>\n",
              "    </tr>\n",
              "  </tbody>\n",
              "</table>\n",
              "</div>"
            ],
            "text/plain": [
              "        DATE  ROLL_NO   NAME  ADDRESS\n",
              "0 2020-01-10    100.0    Ram    Dallu\n",
              "1 2020-01-11    100.0  Shyam    Dallu\n",
              "2 2020-01-12    300.0  Shyam  Chaunni\n",
              "3 2020-01-13    300.0   Gita  Chaunni\n",
              "4 2020-01-14    500.0   Rita   Kimdol\n",
              "5 2020-01-15    500.0   Rita   Kimdol\n",
              "6 2020-01-16    700.0   Tina   Chagal"
            ]
          },
          "metadata": {
            "tags": []
          },
          "execution_count": 31
        }
      ]
    },
    {
      "cell_type": "markdown",
      "metadata": {
        "id": "Kvl_JCncAO5T"
      },
      "source": [
        "# **Backwardfill**"
      ]
    },
    {
      "cell_type": "code",
      "metadata": {
        "id": "-WPfm2s0AEo5",
        "outputId": "6c8d1721-fb6d-48ba-ccce-d3e3062b50fe",
        "colab": {
          "base_uri": "https://localhost:8080/",
          "height": 257
        }
      },
      "source": [
        "df6 = df1.fillna(method=\"bfill\")\n",
        "df6"
      ],
      "execution_count": 32,
      "outputs": [
        {
          "output_type": "execute_result",
          "data": {
            "text/html": [
              "<div>\n",
              "<style scoped>\n",
              "    .dataframe tbody tr th:only-of-type {\n",
              "        vertical-align: middle;\n",
              "    }\n",
              "\n",
              "    .dataframe tbody tr th {\n",
              "        vertical-align: top;\n",
              "    }\n",
              "\n",
              "    .dataframe thead th {\n",
              "        text-align: right;\n",
              "    }\n",
              "</style>\n",
              "<table border=\"1\" class=\"dataframe\">\n",
              "  <thead>\n",
              "    <tr style=\"text-align: right;\">\n",
              "      <th></th>\n",
              "      <th>DATE</th>\n",
              "      <th>ROLL_NO</th>\n",
              "      <th>NAME</th>\n",
              "      <th>ADDRESS</th>\n",
              "    </tr>\n",
              "  </thead>\n",
              "  <tbody>\n",
              "    <tr>\n",
              "      <th>0</th>\n",
              "      <td>2020-01-10</td>\n",
              "      <td>100.0</td>\n",
              "      <td>Ram</td>\n",
              "      <td>Dallu</td>\n",
              "    </tr>\n",
              "    <tr>\n",
              "      <th>1</th>\n",
              "      <td>2020-01-11</td>\n",
              "      <td>300.0</td>\n",
              "      <td>Shyam</td>\n",
              "      <td>Chaunni</td>\n",
              "    </tr>\n",
              "    <tr>\n",
              "      <th>2</th>\n",
              "      <td>2020-01-12</td>\n",
              "      <td>300.0</td>\n",
              "      <td>Gita</td>\n",
              "      <td>Chaunni</td>\n",
              "    </tr>\n",
              "    <tr>\n",
              "      <th>3</th>\n",
              "      <td>2020-01-13</td>\n",
              "      <td>500.0</td>\n",
              "      <td>Gita</td>\n",
              "      <td>Kimdol</td>\n",
              "    </tr>\n",
              "    <tr>\n",
              "      <th>4</th>\n",
              "      <td>2020-01-14</td>\n",
              "      <td>500.0</td>\n",
              "      <td>Rita</td>\n",
              "      <td>Kimdol</td>\n",
              "    </tr>\n",
              "    <tr>\n",
              "      <th>5</th>\n",
              "      <td>2020-01-15</td>\n",
              "      <td>700.0</td>\n",
              "      <td>Tina</td>\n",
              "      <td>Chagal</td>\n",
              "    </tr>\n",
              "    <tr>\n",
              "      <th>6</th>\n",
              "      <td>2020-01-16</td>\n",
              "      <td>700.0</td>\n",
              "      <td>Tina</td>\n",
              "      <td>Chagal</td>\n",
              "    </tr>\n",
              "  </tbody>\n",
              "</table>\n",
              "</div>"
            ],
            "text/plain": [
              "        DATE  ROLL_NO   NAME  ADDRESS\n",
              "0 2020-01-10    100.0    Ram    Dallu\n",
              "1 2020-01-11    300.0  Shyam  Chaunni\n",
              "2 2020-01-12    300.0   Gita  Chaunni\n",
              "3 2020-01-13    500.0   Gita   Kimdol\n",
              "4 2020-01-14    500.0   Rita   Kimdol\n",
              "5 2020-01-15    700.0   Tina   Chagal\n",
              "6 2020-01-16    700.0   Tina   Chagal"
            ]
          },
          "metadata": {
            "tags": []
          },
          "execution_count": 32
        }
      ]
    },
    {
      "cell_type": "code",
      "metadata": {
        "id": "_nq5f6WLAXJA",
        "outputId": "ef7bf1b3-0edb-443e-e4bb-ecf1dcac9d0a",
        "colab": {
          "base_uri": "https://localhost:8080/",
          "height": 257
        }
      },
      "source": [
        "df1"
      ],
      "execution_count": 33,
      "outputs": [
        {
          "output_type": "execute_result",
          "data": {
            "text/html": [
              "<div>\n",
              "<style scoped>\n",
              "    .dataframe tbody tr th:only-of-type {\n",
              "        vertical-align: middle;\n",
              "    }\n",
              "\n",
              "    .dataframe tbody tr th {\n",
              "        vertical-align: top;\n",
              "    }\n",
              "\n",
              "    .dataframe thead th {\n",
              "        text-align: right;\n",
              "    }\n",
              "</style>\n",
              "<table border=\"1\" class=\"dataframe\">\n",
              "  <thead>\n",
              "    <tr style=\"text-align: right;\">\n",
              "      <th></th>\n",
              "      <th>DATE</th>\n",
              "      <th>ROLL_NO</th>\n",
              "      <th>NAME</th>\n",
              "      <th>ADDRESS</th>\n",
              "    </tr>\n",
              "  </thead>\n",
              "  <tbody>\n",
              "    <tr>\n",
              "      <th>0</th>\n",
              "      <td>2020-01-10</td>\n",
              "      <td>100.0</td>\n",
              "      <td>Ram</td>\n",
              "      <td>Dallu</td>\n",
              "    </tr>\n",
              "    <tr>\n",
              "      <th>1</th>\n",
              "      <td>2020-01-11</td>\n",
              "      <td>NaN</td>\n",
              "      <td>Shyam</td>\n",
              "      <td>None</td>\n",
              "    </tr>\n",
              "    <tr>\n",
              "      <th>2</th>\n",
              "      <td>2020-01-12</td>\n",
              "      <td>300.0</td>\n",
              "      <td>None</td>\n",
              "      <td>Chaunni</td>\n",
              "    </tr>\n",
              "    <tr>\n",
              "      <th>3</th>\n",
              "      <td>2020-01-13</td>\n",
              "      <td>NaN</td>\n",
              "      <td>Gita</td>\n",
              "      <td>None</td>\n",
              "    </tr>\n",
              "    <tr>\n",
              "      <th>4</th>\n",
              "      <td>2020-01-14</td>\n",
              "      <td>500.0</td>\n",
              "      <td>Rita</td>\n",
              "      <td>Kimdol</td>\n",
              "    </tr>\n",
              "    <tr>\n",
              "      <th>5</th>\n",
              "      <td>2020-01-15</td>\n",
              "      <td>NaN</td>\n",
              "      <td>None</td>\n",
              "      <td>None</td>\n",
              "    </tr>\n",
              "    <tr>\n",
              "      <th>6</th>\n",
              "      <td>2020-01-16</td>\n",
              "      <td>700.0</td>\n",
              "      <td>Tina</td>\n",
              "      <td>Chagal</td>\n",
              "    </tr>\n",
              "  </tbody>\n",
              "</table>\n",
              "</div>"
            ],
            "text/plain": [
              "        DATE  ROLL_NO   NAME  ADDRESS\n",
              "0 2020-01-10    100.0    Ram    Dallu\n",
              "1 2020-01-11      NaN  Shyam     None\n",
              "2 2020-01-12    300.0   None  Chaunni\n",
              "3 2020-01-13      NaN   Gita     None\n",
              "4 2020-01-14    500.0   Rita   Kimdol\n",
              "5 2020-01-15      NaN   None     None\n",
              "6 2020-01-16    700.0   Tina   Chagal"
            ]
          },
          "metadata": {
            "tags": []
          },
          "execution_count": 33
        }
      ]
    },
    {
      "cell_type": "markdown",
      "metadata": {
        "id": "dfDqsOvwZDNn"
      },
      "source": [
        "# **Forward fill with limit**"
      ]
    },
    {
      "cell_type": "code",
      "metadata": {
        "id": "vSroZYsKAZpm",
        "outputId": "46cf558e-79e2-432b-97b5-8eb79b47b057",
        "colab": {
          "base_uri": "https://localhost:8080/",
          "height": 257
        }
      },
      "source": [
        "df7 = df1.fillna(method=\"ffill\",limit=1) #Copies the valueonly one times.\n",
        "# If there are 2 or more Nan values repeatedly then limit=1 will not work for filling the Nan values since it copies the values of previous not null value only once.\n",
        "df7"
      ],
      "execution_count": 34,
      "outputs": [
        {
          "output_type": "execute_result",
          "data": {
            "text/html": [
              "<div>\n",
              "<style scoped>\n",
              "    .dataframe tbody tr th:only-of-type {\n",
              "        vertical-align: middle;\n",
              "    }\n",
              "\n",
              "    .dataframe tbody tr th {\n",
              "        vertical-align: top;\n",
              "    }\n",
              "\n",
              "    .dataframe thead th {\n",
              "        text-align: right;\n",
              "    }\n",
              "</style>\n",
              "<table border=\"1\" class=\"dataframe\">\n",
              "  <thead>\n",
              "    <tr style=\"text-align: right;\">\n",
              "      <th></th>\n",
              "      <th>DATE</th>\n",
              "      <th>ROLL_NO</th>\n",
              "      <th>NAME</th>\n",
              "      <th>ADDRESS</th>\n",
              "    </tr>\n",
              "  </thead>\n",
              "  <tbody>\n",
              "    <tr>\n",
              "      <th>0</th>\n",
              "      <td>2020-01-10</td>\n",
              "      <td>100.0</td>\n",
              "      <td>Ram</td>\n",
              "      <td>Dallu</td>\n",
              "    </tr>\n",
              "    <tr>\n",
              "      <th>1</th>\n",
              "      <td>2020-01-11</td>\n",
              "      <td>100.0</td>\n",
              "      <td>Shyam</td>\n",
              "      <td>Dallu</td>\n",
              "    </tr>\n",
              "    <tr>\n",
              "      <th>2</th>\n",
              "      <td>2020-01-12</td>\n",
              "      <td>300.0</td>\n",
              "      <td>Shyam</td>\n",
              "      <td>Chaunni</td>\n",
              "    </tr>\n",
              "    <tr>\n",
              "      <th>3</th>\n",
              "      <td>2020-01-13</td>\n",
              "      <td>300.0</td>\n",
              "      <td>Gita</td>\n",
              "      <td>Chaunni</td>\n",
              "    </tr>\n",
              "    <tr>\n",
              "      <th>4</th>\n",
              "      <td>2020-01-14</td>\n",
              "      <td>500.0</td>\n",
              "      <td>Rita</td>\n",
              "      <td>Kimdol</td>\n",
              "    </tr>\n",
              "    <tr>\n",
              "      <th>5</th>\n",
              "      <td>2020-01-15</td>\n",
              "      <td>500.0</td>\n",
              "      <td>Rita</td>\n",
              "      <td>Kimdol</td>\n",
              "    </tr>\n",
              "    <tr>\n",
              "      <th>6</th>\n",
              "      <td>2020-01-16</td>\n",
              "      <td>700.0</td>\n",
              "      <td>Tina</td>\n",
              "      <td>Chagal</td>\n",
              "    </tr>\n",
              "  </tbody>\n",
              "</table>\n",
              "</div>"
            ],
            "text/plain": [
              "        DATE  ROLL_NO   NAME  ADDRESS\n",
              "0 2020-01-10    100.0    Ram    Dallu\n",
              "1 2020-01-11    100.0  Shyam    Dallu\n",
              "2 2020-01-12    300.0  Shyam  Chaunni\n",
              "3 2020-01-13    300.0   Gita  Chaunni\n",
              "4 2020-01-14    500.0   Rita   Kimdol\n",
              "5 2020-01-15    500.0   Rita   Kimdol\n",
              "6 2020-01-16    700.0   Tina   Chagal"
            ]
          },
          "metadata": {
            "tags": []
          },
          "execution_count": 34
        }
      ]
    },
    {
      "cell_type": "markdown",
      "metadata": {
        "id": "zlQxZ5-HZ7zp"
      },
      "source": [
        "# **Backward fill with limit**"
      ]
    },
    {
      "cell_type": "code",
      "metadata": {
        "id": "_Iu0Ey8wZ3dv",
        "outputId": "878ceca0-ce0d-4e9a-e1f4-50b0d2e40ab6",
        "colab": {
          "base_uri": "https://localhost:8080/",
          "height": 257
        }
      },
      "source": [
        "df8 = df1.fillna(method=\"bfill\", limit=1)\n",
        "df8"
      ],
      "execution_count": 35,
      "outputs": [
        {
          "output_type": "execute_result",
          "data": {
            "text/html": [
              "<div>\n",
              "<style scoped>\n",
              "    .dataframe tbody tr th:only-of-type {\n",
              "        vertical-align: middle;\n",
              "    }\n",
              "\n",
              "    .dataframe tbody tr th {\n",
              "        vertical-align: top;\n",
              "    }\n",
              "\n",
              "    .dataframe thead th {\n",
              "        text-align: right;\n",
              "    }\n",
              "</style>\n",
              "<table border=\"1\" class=\"dataframe\">\n",
              "  <thead>\n",
              "    <tr style=\"text-align: right;\">\n",
              "      <th></th>\n",
              "      <th>DATE</th>\n",
              "      <th>ROLL_NO</th>\n",
              "      <th>NAME</th>\n",
              "      <th>ADDRESS</th>\n",
              "    </tr>\n",
              "  </thead>\n",
              "  <tbody>\n",
              "    <tr>\n",
              "      <th>0</th>\n",
              "      <td>2020-01-10</td>\n",
              "      <td>100.0</td>\n",
              "      <td>Ram</td>\n",
              "      <td>Dallu</td>\n",
              "    </tr>\n",
              "    <tr>\n",
              "      <th>1</th>\n",
              "      <td>2020-01-11</td>\n",
              "      <td>300.0</td>\n",
              "      <td>Shyam</td>\n",
              "      <td>Chaunni</td>\n",
              "    </tr>\n",
              "    <tr>\n",
              "      <th>2</th>\n",
              "      <td>2020-01-12</td>\n",
              "      <td>300.0</td>\n",
              "      <td>Gita</td>\n",
              "      <td>Chaunni</td>\n",
              "    </tr>\n",
              "    <tr>\n",
              "      <th>3</th>\n",
              "      <td>2020-01-13</td>\n",
              "      <td>500.0</td>\n",
              "      <td>Gita</td>\n",
              "      <td>Kimdol</td>\n",
              "    </tr>\n",
              "    <tr>\n",
              "      <th>4</th>\n",
              "      <td>2020-01-14</td>\n",
              "      <td>500.0</td>\n",
              "      <td>Rita</td>\n",
              "      <td>Kimdol</td>\n",
              "    </tr>\n",
              "    <tr>\n",
              "      <th>5</th>\n",
              "      <td>2020-01-15</td>\n",
              "      <td>700.0</td>\n",
              "      <td>Tina</td>\n",
              "      <td>Chagal</td>\n",
              "    </tr>\n",
              "    <tr>\n",
              "      <th>6</th>\n",
              "      <td>2020-01-16</td>\n",
              "      <td>700.0</td>\n",
              "      <td>Tina</td>\n",
              "      <td>Chagal</td>\n",
              "    </tr>\n",
              "  </tbody>\n",
              "</table>\n",
              "</div>"
            ],
            "text/plain": [
              "        DATE  ROLL_NO   NAME  ADDRESS\n",
              "0 2020-01-10    100.0    Ram    Dallu\n",
              "1 2020-01-11    300.0  Shyam  Chaunni\n",
              "2 2020-01-12    300.0   Gita  Chaunni\n",
              "3 2020-01-13    500.0   Gita   Kimdol\n",
              "4 2020-01-14    500.0   Rita   Kimdol\n",
              "5 2020-01-15    700.0   Tina   Chagal\n",
              "6 2020-01-16    700.0   Tina   Chagal"
            ]
          },
          "metadata": {
            "tags": []
          },
          "execution_count": 35
        }
      ]
    },
    {
      "cell_type": "code",
      "metadata": {
        "id": "8pJ2VvfsaGpR"
      },
      "source": [
        ""
      ],
      "execution_count": null,
      "outputs": []
    }
  ]
}